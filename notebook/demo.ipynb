{
 "cells": [
  {
   "cell_type": "code",
   "execution_count": 1,
   "id": "714aa2dc",
   "metadata": {},
   "outputs": [],
   "source": [
    "import os\n",
    "import numpy as np\n",
    "import matplotlib.pyplot as plt\n",
    "import pandas as pd\n",
    "import seaborn as sns\n",
    "import torch\n",
    "import torch.nn as nn\n",
    "from torch.utils.data import DataLoader\n",
    "from torchvision import transforms,datasets\n",
    "import torch.nn.functional as F\n",
    "from sklearn.metrics import confusion_matrix\n",
    "from tqdm import tqdm"
   ]
  },
  {
   "cell_type": "code",
   "execution_count": 2,
   "id": "79377638",
   "metadata": {},
   "outputs": [
    {
     "name": "stdout",
     "output_type": "stream",
     "text": [
      "This notebook is using device: cuda\n"
     ]
    }
   ],
   "source": [
    "class Config:\n",
    "    def __init__(self):\n",
    "        self.ROOT_DATA_DIR = \"FashionMNISTDir\"\n",
    "        self.EPOCH = 10\n",
    "        self.BATCH_SIZE = 32\n",
    "        self.LEARNING_RATE = 0.01\n",
    "        self.IMAGE_SIZE = (28,28)\n",
    "        self.DEVICE = \"cuda\" if torch.cuda.is_available() else \"cpu\"\n",
    "        print(f\"This notebook is using device: {self.DEVICE}\")\n",
    "        self.SEED = 2022\n",
    "        \n",
    "config = Config()"
   ]
  },
  {
   "cell_type": "code",
   "execution_count": 3,
   "id": "56c195e8",
   "metadata": {},
   "outputs": [],
   "source": [
    "train_data = datasets.FashionMNIST(root = config.ROOT_DATA_DIR,\n",
    "                                  train=True,download=True,transform = transforms.ToTensor(),\n",
    "                                  )\n",
    "test_data = datasets.FashionMNIST(root = config.ROOT_DATA_DIR,\n",
    "                                  train=False,download=True,transform = transforms.ToTensor(),\n",
    "                                  )"
   ]
  },
  {
   "cell_type": "code",
   "execution_count": 4,
   "id": "9959d271",
   "metadata": {},
   "outputs": [
    {
     "data": {
      "text/plain": [
       "torch.Size([60000, 28, 28])"
      ]
     },
     "execution_count": 4,
     "metadata": {},
     "output_type": "execute_result"
    }
   ],
   "source": [
    "train_data.data.shape"
   ]
  },
  {
   "cell_type": "code",
   "execution_count": 5,
   "id": "2c31c648",
   "metadata": {},
   "outputs": [
    {
     "data": {
      "text/plain": [
       "torch.Size([10000, 28, 28])"
      ]
     },
     "execution_count": 5,
     "metadata": {},
     "output_type": "execute_result"
    }
   ],
   "source": [
    "test_data.data.shape"
   ]
  },
  {
   "cell_type": "code",
   "execution_count": 6,
   "id": "298b9de8",
   "metadata": {},
   "outputs": [
    {
     "data": {
      "text/plain": [
       "{'T-shirt/top': 0,\n",
       " 'Trouser': 1,\n",
       " 'Pullover': 2,\n",
       " 'Dress': 3,\n",
       " 'Coat': 4,\n",
       " 'Sandal': 5,\n",
       " 'Shirt': 6,\n",
       " 'Sneaker': 7,\n",
       " 'Bag': 8,\n",
       " 'Ankle boot': 9}"
      ]
     },
     "execution_count": 6,
     "metadata": {},
     "output_type": "execute_result"
    }
   ],
   "source": [
    "train_data.class_to_idx"
   ]
  },
  {
   "cell_type": "code",
   "execution_count": 7,
   "id": "ca7f7296",
   "metadata": {},
   "outputs": [
    {
     "data": {
      "text/plain": [
       "tensor([9, 0, 0,  ..., 3, 0, 5])"
      ]
     },
     "execution_count": 7,
     "metadata": {},
     "output_type": "execute_result"
    }
   ],
   "source": [
    "train_data.targets"
   ]
  },
  {
   "cell_type": "code",
   "execution_count": 8,
   "id": "84aeea86",
   "metadata": {},
   "outputs": [
    {
     "data": {
      "text/plain": [
       "{'T-shirt/top': 0,\n",
       " 'Trouser': 1,\n",
       " 'Pullover': 2,\n",
       " 'Dress': 3,\n",
       " 'Coat': 4,\n",
       " 'Sandal': 5,\n",
       " 'Shirt': 6,\n",
       " 'Sneaker': 7,\n",
       " 'Bag': 8,\n",
       " 'Ankle boot': 9}"
      ]
     },
     "execution_count": 8,
     "metadata": {},
     "output_type": "execute_result"
    }
   ],
   "source": [
    "given_label_map = train_data.class_to_idx\n",
    "given_label_map"
   ]
  },
  {
   "cell_type": "code",
   "execution_count": 9,
   "id": "5c59ad2b",
   "metadata": {},
   "outputs": [
    {
     "data": {
      "text/plain": [
       "{0: 'T-shirt/top',\n",
       " 1: 'Trouser',\n",
       " 2: 'Pullover',\n",
       " 3: 'Dress',\n",
       " 4: 'Coat',\n",
       " 5: 'Sandal',\n",
       " 6: 'Shirt',\n",
       " 7: 'Sneaker',\n",
       " 8: 'Bag',\n",
       " 9: 'Ankle boot'}"
      ]
     },
     "execution_count": 9,
     "metadata": {},
     "output_type": "execute_result"
    }
   ],
   "source": [
    "label_map = {val:key for key,val in given_label_map.items()}\n",
    "label_map"
   ]
  },
  {
   "cell_type": "markdown",
   "id": "58c37b1e",
   "metadata": {},
   "source": [
    "## Visualize one of the samples"
   ]
  },
  {
   "cell_type": "code",
   "execution_count": 10,
   "id": "d4ff9fa2",
   "metadata": {},
   "outputs": [],
   "source": [
    "def view_sample_image(data,idx,label_map):\n",
    "    plt.imshow(train_data.data[idx],cmap='gray')\n",
    "    plt.title(f\"data label1: {label_map[train_data.targets[idx].item()]}\")\n",
    "    plt.axis(\"off\")"
   ]
  },
  {
   "cell_type": "code",
   "execution_count": 11,
   "id": "f0fcc415",
   "metadata": {},
   "outputs": [
    {
     "data": {
      "image/png": "[encoded data removed]",
      "text/plain": [
       "<Figure size 432x288 with 1 Axes>"
      ]
     },
     "metadata": {
      "needs_background": "light"
     },
     "output_type": "display_data"
    }
   ],
   "source": [
    "view_sample_image(train_data,7,label_map)"
   ]
  },
  {
   "cell_type": "markdown",
   "id": "6603b666",
   "metadata": {},
   "source": [
    "### Create the Data Loader"
   ]
  },
  {
   "cell_type": "code",
   "execution_count": 12,
   "id": "74407b71",
   "metadata": {},
   "outputs": [],
   "source": [
    "train_data_loader = DataLoader(dataset = train_data,batch_size=config.BATCH_SIZE,shuffle=True)\n",
    "\n",
    "test_data_loader = DataLoader(dataset=train_data,\n",
    "                               batch_size=config.BATCH_SIZE,\n",
    "                               shuffle=False)\n"
   ]
  },
  {
   "cell_type": "code",
   "execution_count": 13,
   "id": "06baf95b",
   "metadata": {},
   "outputs": [
    {
     "name": "stdout",
     "output_type": "stream",
     "text": [
      "torch.Size([32, 1, 28, 28])\n",
      "torch.Size([32])\n"
     ]
    }
   ],
   "source": [
    "for image,label in train_data_loader:\n",
    "    print(image.shape)\n",
    "    print(label.shape)\n",
    "    break"
   ]
  },
  {
   "cell_type": "code",
   "execution_count": 14,
   "id": "3bebc77d",
   "metadata": {},
   "outputs": [
    {
     "data": {
      "text/plain": [
       "torch.Size([1, 28, 28])"
      ]
     },
     "execution_count": 14,
     "metadata": {},
     "output_type": "execute_result"
    }
   ],
   "source": [
    "image[0].shape"
   ]
  },
  {
   "cell_type": "code",
   "execution_count": 15,
   "id": "8563b7ff",
   "metadata": {},
   "outputs": [
    {
     "data": {
      "text/plain": [
       "torch.Size([28, 28])"
      ]
     },
     "execution_count": 15,
     "metadata": {},
     "output_type": "execute_result"
    }
   ],
   "source": [
    "image[0].squeeze().shape"
   ]
  },
  {
   "cell_type": "code",
   "execution_count": 16,
   "id": "44f934d4",
   "metadata": {},
   "outputs": [
    {
     "data": {
      "text/plain": [
       "array([[0.        , 0.        , 0.        , 0.        , 0.        ,\n",
       "        0.        , 0.        , 0.        , 0.        , 0.00392157,\n",
       "        0.        , 0.3137255 , 0.5921569 , 0.40784314, 0.43137255,\n",
       "        0.44313726, 0.53333336, 0.35686275, 0.        , 0.        ,\n",
       "        0.        , 0.        , 0.        , 0.        , 0.        ,\n",
       "        0.        , 0.        , 0.        ],\n",
       "       [0.        , 0.        , 0.        , 0.        , 0.        ,\n",
       "        0.        , 0.        , 0.        , 0.        , 0.        ,\n",
       "        0.        , 0.6784314 , 0.8392157 , 0.7921569 , 0.84705883,\n",
       "        0.81960785, 0.8509804 , 0.73333335, 0.        , 0.        ,\n",
       "        0.        , 0.        , 0.        , 0.        , 0.        ,\n",
       "        0.        , 0.        , 0.        ],\n",
       "       [0.        , 0.        , 0.        , 0.        , 0.        ,\n",
       "        0.        , 0.        , 0.        , 0.        , 0.        ,\n",
       "        0.17254902, 0.7294118 , 0.74509805, 0.7372549 , 0.827451  ,\n",
       "        0.7607843 , 0.75686276, 0.78039217, 0.27058825, 0.        ,\n",
       "        0.        , 0.        , 0.        , 0.        , 0.        ,\n",
       "        0.        , 0.        , 0.        ],\n",
       "       [0.        , 0.        , 0.        , 0.        , 0.        ,\n",
       "        0.        , 0.        , 0.        , 0.        , 0.        ,\n",
       "        0.34901962, 0.8117647 , 0.7372549 , 0.74509805, 0.8392157 ,\n",
       "        0.75686276, 0.75686276, 0.7882353 , 0.45490196, 0.        ,\n",
       "        0.        , 0.        , 0.        , 0.        , 0.        ,\n",
       "        0.        , 0.        , 0.        ],\n",
       "       [0.        , 0.        , 0.        , 0.        , 0.        ,\n",
       "        0.        , 0.        , 0.        , 0.        , 0.        ,\n",
       "        0.43529412, 0.827451  , 0.7372549 , 0.75686276, 0.7254902 ,\n",
       "        0.7764706 , 0.7490196 , 0.8117647 , 0.5686275 , 0.        ,\n",
       "        0.        , 0.        , 0.        , 0.        , 0.        ,\n",
       "        0.        , 0.        , 0.        ],\n",
       "       [0.        , 0.        , 0.        , 0.        , 0.        ,\n",
       "        0.        , 0.        , 0.        , 0.        , 0.        ,\n",
       "        0.53333336, 0.8117647 , 0.74509805, 0.75686276, 0.67058825,\n",
       "        0.78431374, 0.7490196 , 0.80784315, 0.57254905, 0.        ,\n",
       "        0.        , 0.        , 0.        , 0.        , 0.        ,\n",
       "        0.        , 0.        , 0.        ],\n",
       "       [0.        , 0.        , 0.        , 0.        , 0.        ,\n",
       "        0.        , 0.        , 0.        , 0.        , 0.        ,\n",
       "        0.6392157 , 0.7921569 , 0.7529412 , 0.7647059 , 0.70980394,\n",
       "        0.7882353 , 0.7529412 , 0.7882353 , 0.654902  , 0.        ,\n",
       "        0.        , 0.        , 0.        , 0.        , 0.        ,\n",
       "        0.        , 0.        , 0.        ],\n",
       "       [0.        , 0.        , 0.        , 0.        , 0.        ,\n",
       "        0.        , 0.        , 0.        , 0.        , 0.        ,\n",
       "        0.654902  , 0.7882353 , 0.7490196 , 0.78039217, 0.7254902 ,\n",
       "        0.78039217, 0.7607843 , 0.76862746, 0.6862745 , 0.        ,\n",
       "        0.        , 0.        , 0.        , 0.        , 0.        ,\n",
       "        0.        , 0.        , 0.        ],\n",
       "       [0.        , 0.        , 0.        , 0.        , 0.        ,\n",
       "        0.        , 0.        , 0.        , 0.        , 0.        ,\n",
       "        0.6862745 , 0.7882353 , 0.7490196 , 0.7647059 , 0.7882353 ,\n",
       "        0.7607843 , 0.7607843 , 0.76862746, 0.6862745 , 0.        ,\n",
       "        0.        , 0.        , 0.        , 0.        , 0.        ,\n",
       "        0.        , 0.        , 0.        ],\n",
       "       [0.        , 0.        , 0.        , 0.        , 0.        ,\n",
       "        0.        , 0.        , 0.        , 0.        , 0.        ,\n",
       "        0.70980394, 0.78039217, 0.75686276, 0.75686276, 0.8235294 ,\n",
       "        0.75686276, 0.7607843 , 0.78039217, 0.7019608 , 0.        ,\n",
       "        0.        , 0.        , 0.        , 0.        , 0.        ,\n",
       "        0.        , 0.        , 0.        ],\n",
       "       [0.        , 0.        , 0.        , 0.        , 0.        ,\n",
       "        0.        , 0.        , 0.        , 0.        , 0.        ,\n",
       "        0.6313726 , 0.76862746, 0.7490196 , 0.7607843 , 0.83137256,\n",
       "        0.7529412 , 0.7647059 , 0.78039217, 0.70980394, 0.        ,\n",
       "        0.        , 0.        , 0.        , 0.        , 0.        ,\n",
       "        0.        , 0.        , 0.        ],\n",
       "       [0.        , 0.        , 0.        , 0.        , 0.        ,\n",
       "        0.        , 0.        , 0.        , 0.        , 0.        ,\n",
       "        0.6666667 , 0.75686276, 0.75686276, 0.75686276, 0.827451  ,\n",
       "        0.7490196 , 0.7607843 , 0.7764706 , 0.7372549 , 0.        ,\n",
       "        0.        , 0.        , 0.        , 0.        , 0.        ,\n",
       "        0.        , 0.        , 0.        ],\n",
       "       [0.        , 0.        , 0.        , 0.        , 0.        ,\n",
       "        0.        , 0.        , 0.        , 0.        , 0.        ,\n",
       "        0.69411767, 0.7647059 , 0.7607843 , 0.7647059 , 0.85490197,\n",
       "        0.7529412 , 0.75686276, 0.76862746, 0.7764706 , 0.00392157,\n",
       "        0.        , 0.        , 0.        , 0.        , 0.        ,\n",
       "        0.        , 0.        , 0.        ],\n",
       "       [0.        , 0.        , 0.        , 0.        , 0.        ,\n",
       "        0.        , 0.        , 0.        , 0.        , 0.        ,\n",
       "        0.72156864, 0.75686276, 0.7647059 , 0.75686276, 0.8784314 ,\n",
       "        0.7647059 , 0.76862746, 0.7647059 , 0.7882353 , 0.00784314,\n",
       "        0.        , 0.        , 0.        , 0.        , 0.        ,\n",
       "        0.        , 0.        , 0.        ],\n",
       "       [0.        , 0.        , 0.        , 0.        , 0.        ,\n",
       "        0.        , 0.        , 0.        , 0.        , 0.01176471,\n",
       "        0.7529412 , 0.7529412 , 0.76862746, 0.7529412 , 0.91764706,\n",
       "        0.75686276, 0.78039217, 0.7647059 , 0.80784315, 0.07058824,\n",
       "        0.        , 0.        , 0.        , 0.        , 0.        ,\n",
       "        0.        , 0.        , 0.        ],\n",
       "       [0.        , 0.        , 0.        , 0.        , 0.        ,\n",
       "        0.        , 0.        , 0.        , 0.        , 0.04705882,\n",
       "        0.76862746, 0.7529412 , 0.7764706 , 0.78431374, 0.84313726,\n",
       "        0.7607843 , 0.78039217, 0.76862746, 0.8156863 , 0.14901961,\n",
       "        0.        , 0.        , 0.        , 0.        , 0.        ,\n",
       "        0.        , 0.        , 0.        ],\n",
       "       [0.        , 0.        , 0.        , 0.        , 0.        ,\n",
       "        0.        , 0.        , 0.        , 0.        , 0.06666667,\n",
       "        0.7764706 , 0.7490196 , 0.76862746, 0.84705883, 0.68235296,\n",
       "        0.7372549 , 0.78431374, 0.76862746, 0.81960785, 0.21568628,\n",
       "        0.        , 0.        , 0.        , 0.        , 0.        ,\n",
       "        0.        , 0.        , 0.        ],\n",
       "       [0.        , 0.        , 0.        , 0.        , 0.        ,\n",
       "        0.        , 0.        , 0.        , 0.        , 0.09019608,\n",
       "        0.78431374, 0.7529412 , 0.7607843 , 0.88235295, 0.59607846,\n",
       "        0.76862746, 0.78431374, 0.76862746, 0.81960785, 0.2784314 ,\n",
       "        0.        , 0.        , 0.        , 0.        , 0.        ,\n",
       "        0.        , 0.        , 0.        ],\n",
       "       [0.        , 0.        , 0.        , 0.        , 0.        ,\n",
       "        0.        , 0.        , 0.        , 0.        , 0.15294118,\n",
       "        0.7921569 , 0.7529412 , 0.7647059 , 0.92941177, 0.41960785,\n",
       "        0.7607843 , 0.7921569 , 0.76862746, 0.8235294 , 0.34117648,\n",
       "        0.        , 0.        , 0.        , 0.        , 0.        ,\n",
       "        0.        , 0.        , 0.        ],\n",
       "       [0.        , 0.        , 0.        , 0.        , 0.        ,\n",
       "        0.        , 0.        , 0.        , 0.        , 0.22745098,\n",
       "        0.80784315, 0.7529412 , 0.78431374, 0.9490196 , 0.24705882,\n",
       "        0.79607844, 0.79607844, 0.76862746, 0.83137256, 0.38039216,\n",
       "        0.        , 0.        , 0.        , 0.        , 0.        ,\n",
       "        0.        , 0.        , 0.        ],\n",
       "       [0.        , 0.        , 0.        , 0.        , 0.        ,\n",
       "        0.        , 0.        , 0.        , 0.        , 0.2784314 ,\n",
       "        0.80784315, 0.7529412 , 0.7764706 , 0.95686275, 0.21176471,\n",
       "        0.79607844, 0.8       , 0.76862746, 0.8392157 , 0.42745098,\n",
       "        0.        , 0.        , 0.        , 0.        , 0.        ,\n",
       "        0.        , 0.        , 0.        ],\n",
       "       [0.        , 0.        , 0.        , 0.        , 0.        ,\n",
       "        0.        , 0.        , 0.        , 0.        , 0.34509805,\n",
       "        0.80784315, 0.7607843 , 0.7607843 , 0.9843137 , 0.14901961,\n",
       "        0.8       , 0.8117647 , 0.78039217, 0.83137256, 0.49019608,\n",
       "        0.        , 0.        , 0.        , 0.        , 0.        ,\n",
       "        0.        , 0.        , 0.        ],\n",
       "       [0.        , 0.        , 0.        , 0.        , 0.        ,\n",
       "        0.        , 0.        , 0.        , 0.        , 0.40392157,\n",
       "        0.89411765, 0.75686276, 0.7882353 , 1.        , 0.        ,\n",
       "        0.80784315, 0.8156863 , 0.7764706 , 0.8862745 , 0.5647059 ,\n",
       "        0.        , 0.        , 0.        , 0.        , 0.        ,\n",
       "        0.        , 0.        , 0.        ],\n",
       "       [0.        , 0.        , 0.        , 0.        , 0.        ,\n",
       "        0.        , 0.        , 0.        , 0.        , 0.45882353,\n",
       "        0.88235295, 0.7647059 , 0.7921569 , 0.9882353 , 0.        ,\n",
       "        0.7607843 , 0.81960785, 0.7764706 , 0.85490197, 0.6156863 ,\n",
       "        0.        , 0.        , 0.        , 0.        , 0.        ,\n",
       "        0.        , 0.        , 0.        ],\n",
       "       [0.        , 0.        , 0.        , 0.        , 0.        ,\n",
       "        0.        , 0.        , 0.        , 0.        , 0.5529412 ,\n",
       "        0.79607844, 0.76862746, 0.80784315, 0.9372549 , 0.        ,\n",
       "        0.7490196 , 0.81960785, 0.78431374, 0.80784315, 0.7019608 ,\n",
       "        0.        , 0.        , 0.        , 0.        , 0.        ,\n",
       "        0.        , 0.        , 0.        ],\n",
       "       [0.        , 0.        , 0.        , 0.        , 0.        ,\n",
       "        0.        , 0.        , 0.        , 0.        , 0.5882353 ,\n",
       "        0.7882353 , 0.7647059 , 0.8156863 , 0.8901961 , 0.        ,\n",
       "        0.73333335, 0.81960785, 0.7764706 , 0.79607844, 0.73333335,\n",
       "        0.        , 0.        , 0.        , 0.        , 0.        ,\n",
       "        0.        , 0.        , 0.        ],\n",
       "       [0.        , 0.        , 0.        , 0.        , 0.        ,\n",
       "        0.        , 0.        , 0.        , 0.        , 0.73333335,\n",
       "        0.7882353 , 0.78431374, 0.84705883, 0.8901961 , 0.        ,\n",
       "        0.7176471 , 0.85490197, 0.78039217, 0.8       , 0.8666667 ,\n",
       "        0.        , 0.        , 0.        , 0.        , 0.        ,\n",
       "        0.        , 0.        , 0.        ],\n",
       "       [0.        , 0.        , 0.        , 0.        , 0.        ,\n",
       "        0.        , 0.        , 0.        , 0.        , 0.40392157,\n",
       "        0.7019608 , 0.7019608 , 0.7372549 , 0.5411765 , 0.        ,\n",
       "        0.3647059 , 0.7254902 , 0.6862745 , 0.6509804 , 0.58431375,\n",
       "        0.        , 0.        , 0.        , 0.        , 0.        ,\n",
       "        0.        , 0.        , 0.        ]], dtype=float32)"
      ]
     },
     "execution_count": 16,
     "metadata": {},
     "output_type": "execute_result"
    }
   ],
   "source": [
    "image[0].squeeze().numpy()"
   ]
  },
  {
   "cell_type": "code",
   "execution_count": 17,
   "id": "ff1d6100",
   "metadata": {},
   "outputs": [
    {
     "data": {
      "text/plain": [
       "<matplotlib.image.AxesImage at 0x7f52000ccca0>"
      ]
     },
     "execution_count": 17,
     "metadata": {},
     "output_type": "execute_result"
    },
    {
     "data": {
      "image/png": "[encoded data removed]",
      "text/plain": [
       "<Figure size 432x288 with 1 Axes>"
      ]
     },
     "metadata": {
      "needs_background": "light"
     },
     "output_type": "display_data"
    }
   ],
   "source": [
    "plt.imshow(image[0].squeeze(),cmap='gray')"
   ]
  },
  {
   "cell_type": "code",
   "execution_count": 18,
   "id": "3412fc45",
   "metadata": {},
   "outputs": [
    {
     "data": {
      "text/plain": [
       "(torch.Size([1, 28, 28]), torch.Size([28, 28]), torch.Size([1, 1, 28, 28]))"
      ]
     },
     "execution_count": 18,
     "metadata": {},
     "output_type": "execute_result"
    }
   ],
   "source": [
    "image[0].shape, image[0].squeeze().shape, image[0].unsqueeze(dim=1).shape"
   ]
  },
  {
   "cell_type": "code",
   "execution_count": 19,
   "id": "4bd90e76",
   "metadata": {},
   "outputs": [],
   "source": [
    "class CNN(nn.Module):\n",
    "    def __init__(self,in_,out_):\n",
    "        super(CNN,self).__init__()\n",
    "        self.conv_pool_01 = nn.Sequential(\n",
    "            nn.Conv2d(in_channels = in_,out_channels = 8,kernel_size = 5, stride = 1, padding = 0),\n",
    "            nn.ReLU(),\n",
    "            nn.MaxPool2d(kernel_size = 2, stride = 2),\n",
    "        )\n",
    "        self.conv_pool_02 = nn.Sequential(\n",
    "            nn.Conv2d(in_channels=8,\n",
    "                      out_channels=16,\n",
    "                      kernel_size=5,\n",
    "                      stride=1,\n",
    "                      padding=0),\n",
    "            nn.ReLU(),\n",
    "            nn.MaxPool2d(kernel_size=2, stride=2),\n",
    "        )\n",
    "        self.Flatten = nn.Flatten()\n",
    "        self.FC_01 = nn.Linear(in_features=16*4*4,out_features=128)\n",
    "        self.FC_02 = nn.Linear(in_features=128,out_features=64)\n",
    "        self.FC_03 = nn.Linear(in_features=64,out_features=out_)\n",
    "\n",
    "    def forward(self,x):\n",
    "        x = self.conv_pool_01(x)\n",
    "        x = self.conv_pool_02(x)\n",
    "        x = self.Flatten(x)\n",
    "        x = F.relu(self.FC_01(x))\n",
    "        x = F.relu(self.FC_02(x))\n",
    "        x = F.relu(self.FC_03(x))\n",
    "        return x"
   ]
  },
  {
   "cell_type": "code",
   "execution_count": 20,
   "id": "03660fe3",
   "metadata": {},
   "outputs": [
    {
     "name": "stdout",
     "output_type": "stream",
     "text": [
      "CNN(\n",
      "  (conv_pool_01): Sequential(\n",
      "    (0): Conv2d(1, 8, kernel_size=(5, 5), stride=(1, 1))\n",
      "    (1): ReLU()\n",
      "    (2): MaxPool2d(kernel_size=2, stride=2, padding=0, dilation=1, ceil_mode=False)\n",
      "  )\n",
      "  (conv_pool_02): Sequential(\n",
      "    (0): Conv2d(8, 16, kernel_size=(5, 5), stride=(1, 1))\n",
      "    (1): ReLU()\n",
      "    (2): MaxPool2d(kernel_size=2, stride=2, padding=0, dilation=1, ceil_mode=False)\n",
      "  )\n",
      "  (Flatten): Flatten(start_dim=1, end_dim=-1)\n",
      "  (FC_01): Linear(in_features=256, out_features=128, bias=True)\n",
      "  (FC_02): Linear(in_features=128, out_features=64, bias=True)\n",
      "  (FC_03): Linear(in_features=64, out_features=10, bias=True)\n",
      ")\n"
     ]
    }
   ],
   "source": [
    "model = CNN(1,10)\n",
    "\n",
    "print(model)"
   ]
  },
  {
   "cell_type": "code",
   "execution_count": 21,
   "id": "86c1c53a",
   "metadata": {},
   "outputs": [
    {
     "data": {
      "text/plain": [
       "False"
      ]
     },
     "execution_count": 21,
     "metadata": {},
     "output_type": "execute_result"
    }
   ],
   "source": [
    "next(model.parameters()).is_cuda"
   ]
  },
  {
   "cell_type": "code",
   "execution_count": 22,
   "id": "e1640d60",
   "metadata": {},
   "outputs": [
    {
     "data": {
      "text/plain": [
       "CNN(\n",
       "  (conv_pool_01): Sequential(\n",
       "    (0): Conv2d(1, 8, kernel_size=(5, 5), stride=(1, 1))\n",
       "    (1): ReLU()\n",
       "    (2): MaxPool2d(kernel_size=2, stride=2, padding=0, dilation=1, ceil_mode=False)\n",
       "  )\n",
       "  (conv_pool_02): Sequential(\n",
       "    (0): Conv2d(8, 16, kernel_size=(5, 5), stride=(1, 1))\n",
       "    (1): ReLU()\n",
       "    (2): MaxPool2d(kernel_size=2, stride=2, padding=0, dilation=1, ceil_mode=False)\n",
       "  )\n",
       "  (Flatten): Flatten(start_dim=1, end_dim=-1)\n",
       "  (FC_01): Linear(in_features=256, out_features=128, bias=True)\n",
       "  (FC_02): Linear(in_features=128, out_features=64, bias=True)\n",
       "  (FC_03): Linear(in_features=64, out_features=10, bias=True)\n",
       ")"
      ]
     },
     "execution_count": 22,
     "metadata": {},
     "output_type": "execute_result"
    }
   ],
   "source": [
    "model.to(config.DEVICE)"
   ]
  },
  {
   "cell_type": "code",
   "execution_count": 23,
   "id": "88870037",
   "metadata": {},
   "outputs": [
    {
     "data": {
      "text/plain": [
       "True"
      ]
     },
     "execution_count": 23,
     "metadata": {},
     "output_type": "execute_result"
    }
   ],
   "source": [
    "next(model.parameters()).is_cuda"
   ]
  },
  {
   "cell_type": "markdown",
   "id": "01512cb1",
   "metadata": {},
   "source": [
    "### Count the number of trianable parameters"
   ]
  },
  {
   "cell_type": "code",
   "execution_count": 24,
   "id": "fa6a339a",
   "metadata": {},
   "outputs": [
    {
     "data": {
      "text/html": [
       "<style type=\"text/css\">\n",
       "</style>\n",
       "<table id=\"T_30809\">\n",
       "  <caption>Total parameters: {'trainable': 45226, 'non_trainable': 0}</caption>\n",
       "  <thead>\n",
       "    <tr>\n",
       "      <th class=\"blank level0\" >&nbsp;</th>\n",
       "      <th id=\"T_30809_level0_col0\" class=\"col_heading level0 col0\" >Modules</th>\n",
       "      <th id=\"T_30809_level0_col1\" class=\"col_heading level0 col1\" >Parameters</th>\n",
       "    </tr>\n",
       "  </thead>\n",
       "  <tbody>\n",
       "    <tr>\n",
       "      <th id=\"T_30809_level0_row0\" class=\"row_heading level0 row0\" >0</th>\n",
       "      <td id=\"T_30809_row0_col0\" class=\"data row0 col0\" >conv_pool_01.0.weight</td>\n",
       "      <td id=\"T_30809_row0_col1\" class=\"data row0 col1\" >200</td>\n",
       "    </tr>\n",
       "    <tr>\n",
       "      <th id=\"T_30809_level0_row1\" class=\"row_heading level0 row1\" >1</th>\n",
       "      <td id=\"T_30809_row1_col0\" class=\"data row1 col0\" >conv_pool_01.0.bias</td>\n",
       "      <td id=\"T_30809_row1_col1\" class=\"data row1 col1\" >8</td>\n",
       "    </tr>\n",
       "    <tr>\n",
       "      <th id=\"T_30809_level0_row2\" class=\"row_heading level0 row2\" >2</th>\n",
       "      <td id=\"T_30809_row2_col0\" class=\"data row2 col0\" >conv_pool_02.0.weight</td>\n",
       "      <td id=\"T_30809_row2_col1\" class=\"data row2 col1\" >3200</td>\n",
       "    </tr>\n",
       "    <tr>\n",
       "      <th id=\"T_30809_level0_row3\" class=\"row_heading level0 row3\" >3</th>\n",
       "      <td id=\"T_30809_row3_col0\" class=\"data row3 col0\" >conv_pool_02.0.bias</td>\n",
       "      <td id=\"T_30809_row3_col1\" class=\"data row3 col1\" >16</td>\n",
       "    </tr>\n",
       "    <tr>\n",
       "      <th id=\"T_30809_level0_row4\" class=\"row_heading level0 row4\" >4</th>\n",
       "      <td id=\"T_30809_row4_col0\" class=\"data row4 col0\" >FC_01.weight</td>\n",
       "      <td id=\"T_30809_row4_col1\" class=\"data row4 col1\" >32768</td>\n",
       "    </tr>\n",
       "    <tr>\n",
       "      <th id=\"T_30809_level0_row5\" class=\"row_heading level0 row5\" >5</th>\n",
       "      <td id=\"T_30809_row5_col0\" class=\"data row5 col0\" >FC_01.bias</td>\n",
       "      <td id=\"T_30809_row5_col1\" class=\"data row5 col1\" >128</td>\n",
       "    </tr>\n",
       "    <tr>\n",
       "      <th id=\"T_30809_level0_row6\" class=\"row_heading level0 row6\" >6</th>\n",
       "      <td id=\"T_30809_row6_col0\" class=\"data row6 col0\" >FC_02.weight</td>\n",
       "      <td id=\"T_30809_row6_col1\" class=\"data row6 col1\" >8192</td>\n",
       "    </tr>\n",
       "    <tr>\n",
       "      <th id=\"T_30809_level0_row7\" class=\"row_heading level0 row7\" >7</th>\n",
       "      <td id=\"T_30809_row7_col0\" class=\"data row7 col0\" >FC_02.bias</td>\n",
       "      <td id=\"T_30809_row7_col1\" class=\"data row7 col1\" >64</td>\n",
       "    </tr>\n",
       "    <tr>\n",
       "      <th id=\"T_30809_level0_row8\" class=\"row_heading level0 row8\" >8</th>\n",
       "      <td id=\"T_30809_row8_col0\" class=\"data row8 col0\" >FC_03.weight</td>\n",
       "      <td id=\"T_30809_row8_col1\" class=\"data row8 col1\" >640</td>\n",
       "    </tr>\n",
       "    <tr>\n",
       "      <th id=\"T_30809_level0_row9\" class=\"row_heading level0 row9\" >9</th>\n",
       "      <td id=\"T_30809_row9_col0\" class=\"data row9 col0\" >FC_03.bias</td>\n",
       "      <td id=\"T_30809_row9_col1\" class=\"data row9 col1\" >10</td>\n",
       "    </tr>\n",
       "  </tbody>\n",
       "</table>\n"
      ],
      "text/plain": [
       "<pandas.io.formats.style.Styler at 0x7f5200111040>"
      ]
     },
     "execution_count": 24,
     "metadata": {},
     "output_type": "execute_result"
    }
   ],
   "source": [
    "def count_params(model):\n",
    "    model_params = {\"Modules\": list(), \"Parameters\": list()}\n",
    "    total = {\"trainable\": 0, \"non_trainable\": 0}\n",
    "    for name, parameters in model.named_parameters():\n",
    "        param = parameters.numel()\n",
    "        if not parameters.requires_grad:\n",
    "            total[\"non_trainable\"] += param\n",
    "            continue\n",
    "        model_params[\"Modules\"].append(name)\n",
    "        model_params[\"Parameters\"].append(param)\n",
    "        total[\"trainable\"] += param\n",
    "    df = pd.DataFrame(model_params)\n",
    "    df = df.style.set_caption(f\"Total parameters: {total}\")\n",
    "    return df\n",
    "\n",
    "\n",
    "count_params(model)"
   ]
  },
  {
   "cell_type": "markdown",
   "id": "f9af80c4",
   "metadata": {},
   "source": [
    "### Training Loop"
   ]
  },
  {
   "cell_type": "code",
   "execution_count": 25,
   "id": "44fd5572",
   "metadata": {},
   "outputs": [],
   "source": [
    "criterion = nn.CrossEntropyLoss()\n",
    "optimizer = torch.optim.Adam(model.parameters(),lr = config.LEARNING_RATE)"
   ]
  },
  {
   "cell_type": "code",
   "execution_count": 26,
   "id": "84ae8b2d",
   "metadata": {},
   "outputs": [
    {
     "name": "stderr",
     "output_type": "stream",
     "text": [
      "EPOCH 1/10: 100%|██████████| 1875/1875 [00:38<00:00, 48.09it/s, loss=1.76]\n",
      "EPOCH 2/10: 100%|██████████| 1875/1875 [00:30<00:00, 62.35it/s, loss=2]   \n",
      "EPOCH 3/10: 100%|██████████| 1875/1875 [00:30<00:00, 60.71it/s, loss=1.76] \n",
      "EPOCH 4/10: 100%|██████████| 1875/1875 [00:31<00:00, 60.25it/s, loss=1.59] \n",
      "EPOCH 5/10: 100%|██████████| 1875/1875 [00:31<00:00, 60.23it/s, loss=1.35] \n",
      "EPOCH 6/10: 100%|██████████| 1875/1875 [00:31<00:00, 59.04it/s, loss=0.898]\n",
      "EPOCH 7/10: 100%|██████████| 1875/1875 [00:31<00:00, 58.67it/s, loss=1.59] \n",
      "EPOCH 8/10: 100%|██████████| 1875/1875 [00:32<00:00, 58.26it/s, loss=1.46] \n",
      "EPOCH 9/10: 100%|██████████| 1875/1875 [00:32<00:00, 58.24it/s, loss=1.51] \n",
      "EPOCH 10/10: 100%|██████████| 1875/1875 [00:31<00:00, 58.69it/s, loss=1.16] \n"
     ]
    }
   ],
   "source": [
    "for epoch in range(config.EPOCH):\n",
    "    with tqdm(train_data_loader) as tqdm_epoch:\n",
    "        for images,labels in tqdm_epoch:\n",
    "            tqdm_epoch.set_description(f\"EPOCH {epoch+1}/{config.EPOCH}\")\n",
    "\n",
    "            #put the images on device\n",
    "            images = images.to(config.DEVICE)\n",
    "            labels = labels.to(config.DEVICE)\n",
    "\n",
    "            #forward pass\n",
    "            outputs = model(images)\n",
    "            loss = criterion(outputs,labels) #passing the pred and actual values\n",
    "\n",
    "            #backward prop\n",
    "            optimizer.zero_grad() # zero past gradients\n",
    "            loss.backward() # calculate gradients\n",
    "            optimizer.step() # weights updated\n",
    "\n",
    "\n",
    "            tqdm_epoch.set_postfix(loss = loss.item())"
   ]
  },
  {
   "cell_type": "markdown",
   "id": "15745c7e",
   "metadata": {},
   "source": [
    "#### save the model"
   ]
  },
  {
   "cell_type": "code",
   "execution_count": 27,
   "id": "e8e8b8bc",
   "metadata": {},
   "outputs": [],
   "source": [
    "os.makedirs(\"model_dir\",exist_ok=True)"
   ]
  },
  {
   "cell_type": "code",
   "execution_count": 28,
   "id": "75806ecb",
   "metadata": {},
   "outputs": [],
   "source": [
    "model_file = os.path.join(\"model_dir\",\"CNN_model.pth\")\n",
    "torch.save(model,model_file)"
   ]
  },
  {
   "cell_type": "markdown",
   "id": "8b95ed88",
   "metadata": {},
   "source": [
    "### Load the model"
   ]
  },
  {
   "cell_type": "code",
   "execution_count": 29,
   "id": "eff29a1f",
   "metadata": {},
   "outputs": [],
   "source": [
    "loaded_model = torch.load(model_file)"
   ]
  },
  {
   "cell_type": "markdown",
   "id": "3e34afc7",
   "metadata": {},
   "source": [
    "### Evaluate out model"
   ]
  },
  {
   "cell_type": "code",
   "execution_count": 30,
   "id": "ea70a82d",
   "metadata": {},
   "outputs": [],
   "source": [
    "pred = np.array([])\n",
    "target = np.array([])\n",
    "\n",
    "with torch.no_grad():\n",
    "    for batch, data in enumerate(test_data_loader):\n",
    "        images = data[0].to(config.DEVICE)\n",
    "        labels = data[1].to(config.DEVICE)\n",
    "\n",
    "        y_pred = model(images)\n",
    "\n",
    "        pred = np.concatenate((pred,torch.argmax(y_pred,dim=1).cpu().numpy()))\n",
    "        target = np.concatenate((target,labels.cpu().numpy()))"
   ]
  },
  {
   "cell_type": "code",
   "execution_count": 33,
   "id": "e70f1b35",
   "metadata": {},
   "outputs": [
    {
     "data": {
      "text/plain": [
       "{0: 'T-shirt/top',\n",
       " 1: 'Trouser',\n",
       " 2: 'Pullover',\n",
       " 3: 'Dress',\n",
       " 4: 'Coat',\n",
       " 5: 'Sandal',\n",
       " 6: 'Shirt',\n",
       " 7: 'Sneaker',\n",
       " 8: 'Bag',\n",
       " 9: 'Ankle boot'}"
      ]
     },
     "execution_count": 33,
     "metadata": {},
     "output_type": "execute_result"
    }
   ],
   "source": [
    "label_map"
   ]
  },
  {
   "cell_type": "code",
   "execution_count": 35,
   "id": "c8a4b696",
   "metadata": {},
   "outputs": [
    {
     "data": {
      "text/plain": [
       "<AxesSubplot:>"
      ]
     },
     "execution_count": 35,
     "metadata": {},
     "output_type": "execute_result"
    },
    {
     "data": {
      "image/png": "[encoded data removed]",
      "text/plain": [
       "<Figure size 1080x1080 with 1 Axes>"
      ]
     },
     "metadata": {
      "needs_background": "light"
     },
     "output_type": "display_data"
    }
   ],
   "source": [
    "cm = confusion_matrix(target,pred)\n",
    "plt.figure(figsize=(15,15))\n",
    "sns.heatmap(cm,annot=True,fmt=\"d\",cbar=False,xticklabels=label_map.values(),yticklabels=label_map.values())"
   ]
  },
  {
   "cell_type": "markdown",
   "id": "bcce11af",
   "metadata": {},
   "source": [
    "### Prediction on our model"
   ]
  },
  {
   "cell_type": "code",
   "execution_count": 36,
   "id": "16bcfe13",
   "metadata": {},
   "outputs": [
    {
     "data": {
      "text/plain": [
       "[tensor([[[[0., 0., 0.,  ..., 0., 0., 0.],\n",
       "           [0., 0., 0.,  ..., 0., 0., 0.],\n",
       "           [0., 0., 0.,  ..., 0., 0., 0.],\n",
       "           ...,\n",
       "           [0., 0., 0.,  ..., 0., 0., 0.],\n",
       "           [0., 0., 0.,  ..., 0., 0., 0.],\n",
       "           [0., 0., 0.,  ..., 0., 0., 0.]]],\n",
       " \n",
       " \n",
       "         [[[0., 0., 0.,  ..., 0., 0., 0.],\n",
       "           [0., 0., 0.,  ..., 0., 0., 0.],\n",
       "           [0., 0., 0.,  ..., 0., 0., 0.],\n",
       "           ...,\n",
       "           [0., 0., 0.,  ..., 0., 0., 0.],\n",
       "           [0., 0., 0.,  ..., 0., 0., 0.],\n",
       "           [0., 0., 0.,  ..., 0., 0., 0.]]],\n",
       " \n",
       " \n",
       "         [[[0., 0., 0.,  ..., 0., 0., 0.],\n",
       "           [0., 0., 0.,  ..., 0., 0., 0.],\n",
       "           [0., 0., 0.,  ..., 0., 0., 0.],\n",
       "           ...,\n",
       "           [0., 0., 0.,  ..., 0., 0., 0.],\n",
       "           [0., 0., 0.,  ..., 0., 0., 0.],\n",
       "           [0., 0., 0.,  ..., 0., 0., 0.]]],\n",
       " \n",
       " \n",
       "         ...,\n",
       " \n",
       " \n",
       "         [[[0., 0., 0.,  ..., 0., 0., 0.],\n",
       "           [0., 0., 0.,  ..., 0., 0., 0.],\n",
       "           [0., 0., 0.,  ..., 0., 0., 0.],\n",
       "           ...,\n",
       "           [0., 0., 0.,  ..., 0., 0., 0.],\n",
       "           [0., 0., 0.,  ..., 0., 0., 0.],\n",
       "           [0., 0., 0.,  ..., 0., 0., 0.]]],\n",
       " \n",
       " \n",
       "         [[[0., 0., 0.,  ..., 0., 0., 0.],\n",
       "           [0., 0., 0.,  ..., 0., 0., 0.],\n",
       "           [0., 0., 0.,  ..., 0., 0., 0.],\n",
       "           ...,\n",
       "           [0., 0., 0.,  ..., 0., 0., 0.],\n",
       "           [0., 0., 0.,  ..., 0., 0., 0.],\n",
       "           [0., 0., 0.,  ..., 0., 0., 0.]]],\n",
       " \n",
       " \n",
       "         [[[0., 0., 0.,  ..., 0., 0., 0.],\n",
       "           [0., 0., 0.,  ..., 0., 0., 0.],\n",
       "           [0., 0., 0.,  ..., 0., 0., 0.],\n",
       "           ...,\n",
       "           [0., 0., 0.,  ..., 0., 0., 0.],\n",
       "           [0., 0., 0.,  ..., 0., 0., 0.],\n",
       "           [0., 0., 0.,  ..., 0., 0., 0.]]]]),\n",
       " tensor([9, 0, 0, 3, 0, 2, 7, 2, 5, 5, 0, 9, 5, 5, 7, 9, 1, 0, 6, 4, 3, 1, 4, 8,\n",
       "         4, 3, 0, 2, 4, 4, 5, 3])]"
      ]
     },
     "execution_count": 36,
     "metadata": {},
     "output_type": "execute_result"
    }
   ],
   "source": [
    "data = next(iter(test_data_loader))\n",
    "data"
   ]
  },
  {
   "cell_type": "code",
   "execution_count": 37,
   "id": "ed7110b2",
   "metadata": {},
   "outputs": [
    {
     "data": {
      "text/plain": [
       "2"
      ]
     },
     "execution_count": 37,
     "metadata": {},
     "output_type": "execute_result"
    }
   ],
   "source": [
    "len(data)"
   ]
  },
  {
   "cell_type": "code",
   "execution_count": 38,
   "id": "b52b79a5",
   "metadata": {},
   "outputs": [],
   "source": [
    "images,labels = data"
   ]
  },
  {
   "cell_type": "code",
   "execution_count": 39,
   "id": "c4c975ba",
   "metadata": {},
   "outputs": [
    {
     "data": {
      "text/plain": [
       "torch.Size([32, 1, 28, 28])"
      ]
     },
     "execution_count": 39,
     "metadata": {},
     "output_type": "execute_result"
    }
   ],
   "source": [
    "images.shape"
   ]
  },
  {
   "cell_type": "code",
   "execution_count": 40,
   "id": "64ae56b7",
   "metadata": {},
   "outputs": [
    {
     "data": {
      "text/plain": [
       "torch.Size([1, 28, 28])"
      ]
     },
     "execution_count": 40,
     "metadata": {},
     "output_type": "execute_result"
    }
   ],
   "source": [
    "idx = 2\n",
    "img = images[idx]\n",
    "img.shape"
   ]
  },
  {
   "cell_type": "code",
   "execution_count": 44,
   "id": "a2c05937",
   "metadata": {},
   "outputs": [
    {
     "data": {
      "text/plain": [
       "'T-shirt/top'"
      ]
     },
     "execution_count": 44,
     "metadata": {},
     "output_type": "execute_result"
    }
   ],
   "source": [
    "label = labels[idx]\n",
    "label_map[label.item()]"
   ]
  },
  {
   "cell_type": "code",
   "execution_count": 41,
   "id": "de060755",
   "metadata": {},
   "outputs": [
    {
     "data": {
      "text/plain": [
       "<matplotlib.image.AxesImage at 0x7f51ed7c7eb0>"
      ]
     },
     "execution_count": 41,
     "metadata": {},
     "output_type": "execute_result"
    },
    {
     "data": {
      "image/png": "[encoded data removed]",
      "text/plain": [
       "<Figure size 432x288 with 1 Axes>"
      ]
     },
     "metadata": {
      "needs_background": "light"
     },
     "output_type": "display_data"
    }
   ],
   "source": [
    "plt.imshow(img.squeeze(),cmap='gray')"
   ]
  },
  {
   "cell_type": "code",
   "execution_count": 46,
   "id": "08a9a5d6",
   "metadata": {},
   "outputs": [
    {
     "data": {
      "text/plain": [
       "torch.Size([1, 1, 28, 28])"
      ]
     },
     "execution_count": 46,
     "metadata": {},
     "output_type": "execute_result"
    }
   ],
   "source": [
    "img.unsqueeze(dim=0).shape"
   ]
  },
  {
   "cell_type": "code",
   "execution_count": 49,
   "id": "693f9c31",
   "metadata": {},
   "outputs": [
    {
     "data": {
      "text/plain": [
       "tensor([[2.2089, 0.0000, 0.0000, 2.7886, 0.0000, 0.0000, 2.9118, 0.0000, 0.0000,\n",
       "         0.0000]], device='cuda:0', grad_fn=<ReluBackward0>)"
      ]
     },
     "execution_count": 49,
     "metadata": {},
     "output_type": "execute_result"
    }
   ],
   "source": [
    "logit = model(img.unsqueeze(dim=0).to(config.DEVICE))\n",
    "logit"
   ]
  },
  {
   "cell_type": "code",
   "execution_count": 52,
   "id": "bcdde285",
   "metadata": {},
   "outputs": [
    {
     "data": {
      "text/plain": [
       "tensor([[0.1794, 0.0197, 0.0197, 0.3203, 0.0197, 0.0197, 0.3623, 0.0197, 0.0197,\n",
       "         0.0197]], device='cuda:0', grad_fn=<SoftmaxBackward0>)"
      ]
     },
     "execution_count": 52,
     "metadata": {},
     "output_type": "execute_result"
    }
   ],
   "source": [
    "pred_prob = F.softmax(logit,dim=1)\n",
    "pred_prob"
   ]
  },
  {
   "cell_type": "code",
   "execution_count": 51,
   "id": "1951d7e0",
   "metadata": {},
   "outputs": [
    {
     "data": {
      "text/plain": [
       "0.9999000000000002"
      ]
     },
     "execution_count": 51,
     "metadata": {},
     "output_type": "execute_result"
    }
   ],
   "source": [
    "sum([0.1794, 0.0197, 0.0197, 0.3203, 0.0197, 0.0197, 0.3623, 0.0197, 0.0197,\n",
    "         0.0197])"
   ]
  },
  {
   "cell_type": "code",
   "execution_count": 53,
   "id": "75d5a4ab",
   "metadata": {},
   "outputs": [
    {
     "data": {
      "text/plain": [
       "6"
      ]
     },
     "execution_count": 53,
     "metadata": {},
     "output_type": "execute_result"
    }
   ],
   "source": [
    "argmax = torch.argmax(pred_prob).item()\n",
    "argmax"
   ]
  },
  {
   "cell_type": "code",
   "execution_count": 54,
   "id": "c081fc62",
   "metadata": {},
   "outputs": [
    {
     "data": {
      "text/plain": [
       "'Shirt'"
      ]
     },
     "execution_count": 54,
     "metadata": {},
     "output_type": "execute_result"
    }
   ],
   "source": [
    "label_map[argmax]"
   ]
  },
  {
   "cell_type": "code",
   "execution_count": 58,
   "id": "9324a0c5",
   "metadata": {},
   "outputs": [],
   "source": [
    "def predict(data,model,label_map,device,idx=0):\n",
    "    images,data = data\n",
    "    img = images[idx]\n",
    "    label = labels[idx]\n",
    "\n",
    "    plt.imshow(img.squeeze(),cmap='gray')\n",
    "    \n",
    "    logit = model(img.unsqueeze(dim=0).to(config.DEVICE))\n",
    "\n",
    "    pred_prob = F.softmax(logit,dim=1)\n",
    "    argmax = torch.argmax(pred_prob).item()\n",
    "    \n",
    "    predicted_label = label_map[argmax]\n",
    "    actual_label = label_map[label.item()]\n",
    "\n",
    "    plt.title(f\"actual: {actual_label}  |   predicted: {predicted_label}\")\n",
    "    plt.axis(\"off\")\n",
    "\n",
    "    return predicted_label,actual_label"
   ]
  },
  {
   "cell_type": "code",
   "execution_count": 59,
   "id": "3ef4083f",
   "metadata": {},
   "outputs": [
    {
     "data": {
      "text/plain": [
       "('Shirt', 'T-shirt/top')"
      ]
     },
     "execution_count": 59,
     "metadata": {},
     "output_type": "execute_result"
    },
    {
     "data": {
      "image/png": "[encoded data removed]",
      "text/plain": [
       "<Figure size 432x288 with 1 Axes>"
      ]
     },
     "metadata": {
      "needs_background": "light"
     },
     "output_type": "display_data"
    }
   ],
   "source": [
    "predict(data,model,label_map,device = config.DEVICE,idx =2)"
   ]
  },
  {
   "cell_type": "code",
   "execution_count": null,
   "id": "92998608",
   "metadata": {},
   "outputs": [],
   "source": []
  }
 ],
 "metadata": {
  "interpreter": {
   "hash": "698770295fce7fc2cd0c5a61ae3a7bc038d5d6791217096e4700c4c22b03ba8f"
  },
  "kernelspec": {
   "display_name": "Python 3 (ipykernel)",
   "language": "python",
   "name": "python3"
  },
  "language_info": {
   "codemirror_mode": {
    "name": "ipython",
    "version": 3
   },
   "file_extension": ".py",
   "mimetype": "text/x-python",
   "name": "python",
   "nbconvert_exporter": "python",
   "pygments_lexer": "ipython3",
   "version": "3.9.0"
  }
 },
 "nbformat": 4,
 "nbformat_minor": 5
}
